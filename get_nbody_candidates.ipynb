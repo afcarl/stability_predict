{
 "cells": [
  {
   "cell_type": "markdown",
   "metadata": {},
   "source": [
    "# Get Nbody Candidates"
   ]
  },
  {
   "cell_type": "code",
   "execution_count": 3,
   "metadata": {
    "collapsed": true
   },
   "outputs": [],
   "source": [
    "import rebound\n",
    "import matplotlib.pyplot as plt\n",
    "import pandas as pd\n",
    "import random\n",
    "import numpy as np\n",
    "%matplotlib inline"
   ]
  },
  {
   "cell_type": "markdown",
   "metadata": {},
   "source": [
    "### Load data and stability predictions for System"
   ]
  },
  {
   "cell_type": "code",
   "execution_count": 5,
   "metadata": {},
   "outputs": [
    {
     "name": "stdout",
     "output_type": "stream",
     "text": [
      "can't find h and k entries, calculating.\n"
     ]
    }
   ],
   "source": [
    "system = \"Kepler-431\"    #KOI-0156, KOI-0168, KOI-2086, Kepler-431\n",
    "\n",
    "data = pd.read_csv(\"systems/%s_data.csv\"%system)\n",
    "results = pd.read_csv(\"systems/%s_results.csv\"%system)\n",
    "Ms = {}; Ms[\"KOI-0156\"] = 0.56; Ms[\"KOI-0168\"] = 1.11; Ms[\"KOI-2086\"] = 1.04; Ms[\"Kepler-431\"] = 1.071;\n",
    "epoch = 780\n",
    "\n",
    "#get e\n",
    "try:\n",
    "    data[\"e1\"] = np.sqrt(data[\"h1\"]**2 + data[\"k1\"]**2)\n",
    "    data[\"e2\"] = np.sqrt(data[\"h2\"]**2 + data[\"k2\"]**2)\n",
    "    data[\"e3\"] = np.sqrt(data[\"h3\"]**2 + data[\"k3\"]**2)\n",
    "except:\n",
    "    print \"can't find h and k entries, calculating.\"\n",
    "    data[\"h1\"], data[\"k1\"] = data[\"e1\"]*np.sin(data[\"w1\"]), data[\"e1\"]*np.cos(data[\"w1\"])\n",
    "    data[\"h2\"], data[\"k2\"] = data[\"e2\"]*np.sin(data[\"w2\"]), data[\"e2\"]*np.cos(data[\"w2\"])\n",
    "    data[\"h3\"], data[\"k3\"] = data[\"e3\"]*np.sin(data[\"w3\"]), data[\"e3\"]*np.cos(data[\"w3\"])"
   ]
  },
  {
   "cell_type": "markdown",
   "metadata": {},
   "source": [
    "### Get Nbody candidates for Sunnyvale\n",
    "Randomly sample from three stability probability ranges (low, medium, high)."
   ]
  },
  {
   "cell_type": "code",
   "execution_count": 12,
   "metadata": {},
   "outputs": [],
   "source": [
    "N_samples = 249\n",
    "random.seed(42)\n",
    "\n",
    "#index = random.sample(results.index, N_samples)\n",
    "\n",
    "# i1 = random.sample(np.where((results[\"predict_proba\"] > 0)&(results[\"predict_proba\"] < 0.5))[0],N_samples/3)\n",
    "# i2 = random.sample(np.where((results[\"predict_proba\"] > 0.5)&(results[\"predict_proba\"] < 0.85))[0],N_samples/3)\n",
    "# i3 = random.sample(np.where((results[\"predict_proba\"] > 0.85)&(results[\"predict_proba\"] <= 1))[0],N_samples/3)\n",
    "# index = np.concatenate((i1,i2,i3))\n",
    "\n",
    "index = data.index"
   ]
  },
  {
   "cell_type": "code",
   "execution_count": 13,
   "metadata": {},
   "outputs": [
    {
     "data": {
      "text/html": [
       "<div>\n",
       "<table border=\"1\" class=\"dataframe\">\n",
       "  <thead>\n",
       "    <tr style=\"text-align: right;\">\n",
       "      <th></th>\n",
       "      <th>Unnamed: 0</th>\n",
       "      <th>m1</th>\n",
       "      <th>MA1</th>\n",
       "      <th>P1</th>\n",
       "      <th>e1</th>\n",
       "      <th>w1</th>\n",
       "      <th>m2</th>\n",
       "      <th>MA2</th>\n",
       "      <th>P2</th>\n",
       "      <th>e2</th>\n",
       "      <th>...</th>\n",
       "      <th>MA3</th>\n",
       "      <th>P3</th>\n",
       "      <th>e3</th>\n",
       "      <th>w3</th>\n",
       "      <th>h1</th>\n",
       "      <th>k1</th>\n",
       "      <th>h2</th>\n",
       "      <th>k2</th>\n",
       "      <th>h3</th>\n",
       "      <th>k3</th>\n",
       "    </tr>\n",
       "  </thead>\n",
       "  <tbody>\n",
       "    <tr>\n",
       "      <th>0</th>\n",
       "      <td>0</td>\n",
       "      <td>0.190323</td>\n",
       "      <td>1.922614</td>\n",
       "      <td>6.803</td>\n",
       "      <td>0.013274</td>\n",
       "      <td>2.076118</td>\n",
       "      <td>0.548149</td>\n",
       "      <td>5.444703</td>\n",
       "      <td>8.703</td>\n",
       "      <td>0.003679</td>\n",
       "      <td>...</td>\n",
       "      <td>5.983768</td>\n",
       "      <td>11.922</td>\n",
       "      <td>0.000372</td>\n",
       "      <td>4.412395</td>\n",
       "      <td>0.011615</td>\n",
       "      <td>-0.006426</td>\n",
       "      <td>-0.002055</td>\n",
       "      <td>0.003051</td>\n",
       "      <td>-0.000356</td>\n",
       "      <td>-0.000110</td>\n",
       "    </tr>\n",
       "    <tr>\n",
       "      <th>1</th>\n",
       "      <td>1</td>\n",
       "      <td>0.362025</td>\n",
       "      <td>0.952130</td>\n",
       "      <td>6.803</td>\n",
       "      <td>0.000496</td>\n",
       "      <td>1.162948</td>\n",
       "      <td>0.276461</td>\n",
       "      <td>4.141902</td>\n",
       "      <td>8.703</td>\n",
       "      <td>0.001693</td>\n",
       "      <td>...</td>\n",
       "      <td>1.206019</td>\n",
       "      <td>11.922</td>\n",
       "      <td>0.025620</td>\n",
       "      <td>6.009131</td>\n",
       "      <td>0.000456</td>\n",
       "      <td>0.000197</td>\n",
       "      <td>-0.001598</td>\n",
       "      <td>-0.000560</td>\n",
       "      <td>-0.006934</td>\n",
       "      <td>0.024664</td>\n",
       "    </tr>\n",
       "    <tr>\n",
       "      <th>2</th>\n",
       "      <td>2</td>\n",
       "      <td>1.109612</td>\n",
       "      <td>2.163423</td>\n",
       "      <td>6.803</td>\n",
       "      <td>0.119979</td>\n",
       "      <td>3.065306</td>\n",
       "      <td>0.078009</td>\n",
       "      <td>3.863810</td>\n",
       "      <td>8.703</td>\n",
       "      <td>0.070324</td>\n",
       "      <td>...</td>\n",
       "      <td>5.599364</td>\n",
       "      <td>11.922</td>\n",
       "      <td>0.000017</td>\n",
       "      <td>0.285293</td>\n",
       "      <td>0.009144</td>\n",
       "      <td>-0.119630</td>\n",
       "      <td>0.033663</td>\n",
       "      <td>-0.061744</td>\n",
       "      <td>0.000005</td>\n",
       "      <td>0.000016</td>\n",
       "    </tr>\n",
       "    <tr>\n",
       "      <th>3</th>\n",
       "      <td>3</td>\n",
       "      <td>0.139435</td>\n",
       "      <td>3.290191</td>\n",
       "      <td>6.803</td>\n",
       "      <td>0.134269</td>\n",
       "      <td>6.111329</td>\n",
       "      <td>0.620793</td>\n",
       "      <td>2.178322</td>\n",
       "      <td>8.703</td>\n",
       "      <td>0.012962</td>\n",
       "      <td>...</td>\n",
       "      <td>0.395234</td>\n",
       "      <td>11.922</td>\n",
       "      <td>0.000155</td>\n",
       "      <td>2.807998</td>\n",
       "      <td>-0.022962</td>\n",
       "      <td>0.132291</td>\n",
       "      <td>-0.002742</td>\n",
       "      <td>0.012669</td>\n",
       "      <td>0.000051</td>\n",
       "      <td>-0.000146</td>\n",
       "    </tr>\n",
       "    <tr>\n",
       "      <th>4</th>\n",
       "      <td>4</td>\n",
       "      <td>0.239099</td>\n",
       "      <td>4.372711</td>\n",
       "      <td>6.803</td>\n",
       "      <td>0.000517</td>\n",
       "      <td>0.758024</td>\n",
       "      <td>0.796238</td>\n",
       "      <td>0.305502</td>\n",
       "      <td>8.703</td>\n",
       "      <td>0.034731</td>\n",
       "      <td>...</td>\n",
       "      <td>0.896373</td>\n",
       "      <td>11.922</td>\n",
       "      <td>0.000118</td>\n",
       "      <td>1.670759</td>\n",
       "      <td>0.000355</td>\n",
       "      <td>0.000376</td>\n",
       "      <td>-0.033463</td>\n",
       "      <td>0.009299</td>\n",
       "      <td>0.000117</td>\n",
       "      <td>-0.000012</td>\n",
       "    </tr>\n",
       "  </tbody>\n",
       "</table>\n",
       "<p>5 rows × 22 columns</p>\n",
       "</div>"
      ],
      "text/plain": [
       "   Unnamed: 0        m1       MA1     P1        e1        w1        m2  \\\n",
       "0           0  0.190323  1.922614  6.803  0.013274  2.076118  0.548149   \n",
       "1           1  0.362025  0.952130  6.803  0.000496  1.162948  0.276461   \n",
       "2           2  1.109612  2.163423  6.803  0.119979  3.065306  0.078009   \n",
       "3           3  0.139435  3.290191  6.803  0.134269  6.111329  0.620793   \n",
       "4           4  0.239099  4.372711  6.803  0.000517  0.758024  0.796238   \n",
       "\n",
       "        MA2     P2        e2    ...          MA3      P3        e3        w3  \\\n",
       "0  5.444703  8.703  0.003679    ...     5.983768  11.922  0.000372  4.412395   \n",
       "1  4.141902  8.703  0.001693    ...     1.206019  11.922  0.025620  6.009131   \n",
       "2  3.863810  8.703  0.070324    ...     5.599364  11.922  0.000017  0.285293   \n",
       "3  2.178322  8.703  0.012962    ...     0.395234  11.922  0.000155  2.807998   \n",
       "4  0.305502  8.703  0.034731    ...     0.896373  11.922  0.000118  1.670759   \n",
       "\n",
       "         h1        k1        h2        k2        h3        k3  \n",
       "0  0.011615 -0.006426 -0.002055  0.003051 -0.000356 -0.000110  \n",
       "1  0.000456  0.000197 -0.001598 -0.000560 -0.006934  0.024664  \n",
       "2  0.009144 -0.119630  0.033663 -0.061744  0.000005  0.000016  \n",
       "3 -0.022962  0.132291 -0.002742  0.012669  0.000051 -0.000146  \n",
       "4  0.000355  0.000376 -0.033463  0.009299  0.000117 -0.000012  \n",
       "\n",
       "[5 rows x 22 columns]"
      ]
     },
     "execution_count": 13,
     "metadata": {},
     "output_type": "execute_result"
    }
   ],
   "source": [
    "data.loc[index].head()"
   ]
  },
  {
   "cell_type": "code",
   "execution_count": 19,
   "metadata": {},
   "outputs": [
    {
     "data": {
      "image/png": "[encoded data removed]",
      "text/plain": [
       "<matplotlib.figure.Figure at 0x1132597d0>"
      ]
     },
     "metadata": {},
     "output_type": "display_data"
    }
   ],
   "source": [
    "# Plot Nbody Candidates\n",
    "x = \"m\"\n",
    "y = \"e\"\n",
    "proba = results[\"predict_proba\"].loc[index].values\n",
    "\n",
    "colorbar = 'winter'\n",
    "f, (ax1, ax2, ax3) = plt.subplots(1,3, figsize=[13, 4])\n",
    "ax1.scatter(data[\"%s1\"%x].loc[index], data[\"%s1\"%y].loc[index], c=proba, cmap=colorbar, lw=0)\n",
    "ax2.scatter(data[\"%s2\"%x].loc[index], data[\"%s2\"%y].loc[index], c=proba, cmap=colorbar, lw=0)\n",
    "c=ax3.scatter(data[\"%s3\"%x].loc[index], data[\"%s3\"%y].loc[index], c=proba, cmap=colorbar, lw=0)\n",
    "\n",
    "ax1.set_ylabel(y) \n",
    "ax1.set_xlabel(x)\n",
    "ax2.set_xlabel(x)\n",
    "ax3.set_xlabel(x)\n",
    "ax1.set_title(\"Planet 1\")\n",
    "ax2.set_title(\"Planet 2\")\n",
    "ax3.set_title(\"Planet 3\")\n",
    "cb = f.colorbar(c)\n",
    "plt.savefig(\"images/%s_%s%s_Nbodycandidates.png\"%(system,x,y))"
   ]
  },
  {
   "cell_type": "code",
   "execution_count": 15,
   "metadata": {},
   "outputs": [
    {
     "data": {
      "text/plain": [
       "<matplotlib.text.Text at 0x112fac510>"
      ]
     },
     "execution_count": 15,
     "metadata": {},
     "output_type": "execute_result"
    },
    {
     "data": {
      "image/png": "[encoded data removed]",
      "text/plain": [
       "<matplotlib.figure.Figure at 0x1128cd250>"
      ]
     },
     "metadata": {},
     "output_type": "display_data"
    }
   ],
   "source": [
    "plt.hist(proba, 12);\n",
    "plt.xlabel('predicted probability')"
   ]
  },
  {
   "cell_type": "markdown",
   "metadata": {},
   "source": [
    "## Make Sunnyvale Jobs"
   ]
  },
  {
   "cell_type": "code",
   "execution_count": 20,
   "metadata": {
    "collapsed": true
   },
   "outputs": [],
   "source": [
    "norbits = 1e9            #number of orbits of innermost planet\n",
    "dir = 'jobs/'\n",
    "\n",
    "f2 = open(\"systems/%s_NbodyIDs.csv\"%system,\"w\"); f2.write(\"Nbody IDs\\n\")\n",
    "for shadow in [0,1]:\n",
    "    for sample in data.loc[index].iterrows():\n",
    "        id_ = sample[0]    #id number of sample\n",
    "        job_name = \"%s_1e%dorbits_id%d_shadow%d\"%(system,int(np.log10(norbits)),id_,shadow)\n",
    "        sh_script_name = \"%s%s\"%(dir,job_name)\n",
    "        with open(sh_script_name, 'w') as f:\n",
    "            f_head = open('job_header_sunnyvale','r')\n",
    "            f.write(f_head.read())\n",
    "            f_head.close()\n",
    "            f.write('#PBS -N %s \\n'%job_name)\n",
    "            f.write('# EVERYTHING ABOVE THIS COMMENT IS NECESSARY, SHOULD ONLY CHANGE nodes,ppn,walltime and my_job_name VALUES\\n')\n",
    "            f.write('cd $PBS_O_WORKDIR\\n')      #This will be the home stability_predict directory\n",
    "            f.write('source ../venv/bin/activate \\n')\n",
    "            f.write('python run_Nbody.py %d %f %.2f %d %d %s >& batch.output\\n'%(id_,Ms[system],epoch,norbits,shadow,job_name))\n",
    "        f.close()\n",
    "        if shadow == 0:\n",
    "            f2.write(\"%d\\n\"%id_)\n",
    "f2.close()"
   ]
  },
  {
   "cell_type": "code",
   "execution_count": null,
   "metadata": {
    "collapsed": true
   },
   "outputs": [],
   "source": []
  }
 ],
 "metadata": {
  "kernelspec": {
   "display_name": "Python 2",
   "language": "python",
   "name": "python2"
  },
  "language_info": {
   "codemirror_mode": {
    "name": "ipython",
    "version": 2
   },
   "file_extension": ".py",
   "mimetype": "text/x-python",
   "name": "python",
   "nbconvert_exporter": "python",
   "pygments_lexer": "ipython2",
   "version": "2.7.13"
  }
 },
 "nbformat": 4,
 "nbformat_minor": 2
}
