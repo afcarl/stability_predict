{
 "cells": [
  {
   "cell_type": "code",
   "execution_count": 1,
   "metadata": {
    "collapsed": true
   },
   "outputs": [],
   "source": [
    "from generatefeatures import generate_features\n",
    "import pandas as pd\n",
    "import numpy as np\n",
    "import os\n",
    "import rebound\n",
    "from collections import OrderedDict"
   ]
  },
  {
   "cell_type": "markdown",
   "metadata": {},
   "source": [
    "First we generate all the features"
   ]
  },
  {
   "cell_type": "code",
   "execution_count": 2,
   "metadata": {},
   "outputs": [],
   "source": [
    "dflag = 1\n",
    "\n",
    "if dflag == 0:\n",
    "    d = rebound.Simulation.from_file('ic0000000.bin')\n",
    "else:\n",
    "    columns = [\"m1\",\"T1\",\"P1\",\"h1\",\"k1\",\"m2\",\"T2\",\"P2\",\"h2\",\"k2\",\"m3\",\"T3\",\"P3\",\"h3\",\"k3\"] #h,k=esinw,ecosw\n",
    "    d = pd.read_csv(\"systems/KOI-2086.dat\",names=columns,sep=\"\\s+\").iloc[0]"
   ]
  },
  {
   "cell_type": "code",
   "execution_count": 3,
   "metadata": {},
   "outputs": [
    {
     "name": "stderr",
     "output_type": "stream",
     "text": [
      "/Users/silburt/phd/rebound/rebound/simulation.py:508: RuntimeWarning: At least 10 predictor corrector loops in IAS15 did not converge. This is typically an indication of the timestep being too large.\n",
      "  warnings.warn(msg[1:], RuntimeWarning)\n"
     ]
    },
    {
     "name": "stdout",
     "output_type": "stream",
     "text": [
      "CPU times: user 2.99 s, sys: 36.9 ms, total: 3.03 s\n",
      "Wall time: 3.08 s\n"
     ]
    }
   ],
   "source": [
    "%%time\n",
    "fullfeatures = generate_features(d)"
   ]
  },
  {
   "cell_type": "markdown",
   "metadata": {},
   "source": [
    "Load the trained model"
   ]
  },
  {
   "cell_type": "code",
   "execution_count": 5,
   "metadata": {},
   "outputs": [
    {
     "name": "stderr",
     "output_type": "stream",
     "text": [
      "/Users/silburt/anaconda2/envs/ml/lib/python2.7/site-packages/sklearn/cross_validation.py:44: DeprecationWarning: This module was deprecated in version 0.18 in favor of the model_selection module into which all the refactored classes and functions are moved. Also note that the interface of the new CV iterators are different from that of this module. This module will be removed in 0.20.\n",
      "  \"This module will be removed in 0.20.\", DeprecationWarning)\n",
      "/Users/silburt/anaconda2/envs/ml/lib/python2.7/site-packages/sklearn/base.py:315: UserWarning: Trying to unpickle estimator LabelEncoder from version 0.18.1 when using version 0.18. This might lead to breaking code or invalid results. Use at your own risk.\n",
      "  UserWarning)\n"
     ]
    }
   ],
   "source": [
    "import pickle \n",
    "model = pickle.load(open('OptimalXGBmodel.pkl', 'rb'))"
   ]
  },
  {
   "cell_type": "markdown",
   "metadata": {},
   "source": [
    "The trained model only uses a subset of the generated features, so make a list of the ones it needs for evaluation"
   ]
  },
  {
   "cell_type": "code",
   "execution_count": 6,
   "metadata": {
    "collapsed": true
   },
   "outputs": [],
   "source": [
    "import pandas as pd\n",
    "features = []\n",
    "features += ['avg_iH1', 'avg_iH2']\n",
    "features += ['norm_std_a1', 'norm_max_a1', 'norm_std_window10_a1', 'norm_max_window10_a1']\n",
    "features += ['norm_std_a2', 'norm_max_a2', 'norm_std_window10_a2', 'norm_max_window10_a2']\n",
    "features += ['norm_std_a3', 'norm_max_a3', 'norm_std_window10_a3', 'norm_max_window10_a3']\n",
    "features += ['avg_ecross1', 'std_ecross1', 'max_ecross1', 'min_ecross1']\n",
    "features += ['avg_ecross2', 'std_ecross2', 'max_ecross2', 'min_ecross2']\n",
    "features += ['avg_ecross3', 'std_ecross3', 'max_ecross3', 'min_ecross3']\n",
    "features += ['norm_a1_slope', 'norm_a2_slope', 'norm_a3_slope']\n",
    "features += ['Lyapunov_time']"
   ]
  },
  {
   "cell_type": "markdown",
   "metadata": {},
   "source": [
    "There's probably a better way to do this, but it seems the XGBoost API wants a dataframe passed to its predict method. So we need to turn our features into a dataframe with a single row. "
   ]
  },
  {
   "cell_type": "code",
   "execution_count": 8,
   "metadata": {},
   "outputs": [
    {
     "data": {
      "text/html": [
       "<div>\n",
       "<table border=\"1\" class=\"dataframe\">\n",
       "  <thead>\n",
       "    <tr style=\"text-align: right;\">\n",
       "      <th></th>\n",
       "      <th>avg_iH1</th>\n",
       "      <th>avg_iH2</th>\n",
       "      <th>norm_std_a1</th>\n",
       "      <th>norm_max_a1</th>\n",
       "      <th>norm_std_window10_a1</th>\n",
       "      <th>norm_max_window10_a1</th>\n",
       "      <th>norm_std_a2</th>\n",
       "      <th>norm_max_a2</th>\n",
       "      <th>norm_std_window10_a2</th>\n",
       "      <th>norm_max_window10_a2</th>\n",
       "      <th>...</th>\n",
       "      <th>max_ecross2</th>\n",
       "      <th>min_ecross2</th>\n",
       "      <th>avg_ecross3</th>\n",
       "      <th>std_ecross3</th>\n",
       "      <th>max_ecross3</th>\n",
       "      <th>min_ecross3</th>\n",
       "      <th>norm_a1_slope</th>\n",
       "      <th>norm_a2_slope</th>\n",
       "      <th>norm_a3_slope</th>\n",
       "      <th>Lyapunov_time</th>\n",
       "    </tr>\n",
       "  </thead>\n",
       "  <tbody>\n",
       "    <tr>\n",
       "      <th>0</th>\n",
       "      <td>2.179294</td>\n",
       "      <td>0.0</td>\n",
       "      <td>7.02901</td>\n",
       "      <td>49.203071</td>\n",
       "      <td>2.000826</td>\n",
       "      <td>4.001652</td>\n",
       "      <td>7.233072</td>\n",
       "      <td>50.631505</td>\n",
       "      <td>2.006466</td>\n",
       "      <td>4.012932</td>\n",
       "      <td>...</td>\n",
       "      <td>280810.365604</td>\n",
       "      <td>0.346762</td>\n",
       "      <td>0.0</td>\n",
       "      <td>0.0</td>\n",
       "      <td>72.156392</td>\n",
       "      <td>0.258876</td>\n",
       "      <td>-0.000006</td>\n",
       "      <td>-0.000006</td>\n",
       "      <td>1.747732e-07</td>\n",
       "      <td>249955.313923</td>\n",
       "    </tr>\n",
       "  </tbody>\n",
       "</table>\n",
       "<p>1 rows × 30 columns</p>\n",
       "</div>"
      ],
      "text/plain": [
       "    avg_iH1  avg_iH2  norm_std_a1  norm_max_a1  norm_std_window10_a1  \\\n",
       "0  2.179294      0.0      7.02901    49.203071              2.000826   \n",
       "\n",
       "   norm_max_window10_a1  norm_std_a2  norm_max_a2  norm_std_window10_a2  \\\n",
       "0              4.001652     7.233072    50.631505              2.006466   \n",
       "\n",
       "   norm_max_window10_a2      ...          max_ecross2  min_ecross2  \\\n",
       "0              4.012932      ...        280810.365604     0.346762   \n",
       "\n",
       "   avg_ecross3  std_ecross3  max_ecross3  min_ecross3  norm_a1_slope  \\\n",
       "0          0.0          0.0    72.156392     0.258876      -0.000006   \n",
       "\n",
       "   norm_a2_slope  norm_a3_slope  Lyapunov_time  \n",
       "0      -0.000006   1.747732e-07  249955.313923  \n",
       "\n",
       "[1 rows x 30 columns]"
      ]
     },
     "execution_count": 8,
     "metadata": {},
     "output_type": "execute_result"
    }
   ],
   "source": [
    "test = pd.DataFrame(columns=features)\n",
    "test.loc[0] = fullfeatures[features] # take only the features the model uses\n",
    "test"
   ]
  },
  {
   "cell_type": "markdown",
   "metadata": {},
   "source": [
    "Predict probability"
   ]
  },
  {
   "cell_type": "code",
   "execution_count": 24,
   "metadata": {},
   "outputs": [
    {
     "data": {
      "text/plain": [
       "array([[  9.99889970e-01,   1.10002678e-04]], dtype=float32)"
      ]
     },
     "execution_count": 24,
     "metadata": {},
     "output_type": "execute_result"
    }
   ],
   "source": [
    "model.predict_proba(test)"
   ]
  },
  {
   "cell_type": "code",
   "execution_count": null,
   "metadata": {
    "collapsed": true
   },
   "outputs": [],
   "source": []
  }
 ],
 "metadata": {
  "kernelspec": {
   "display_name": "Python 2",
   "language": "python",
   "name": "python2"
  },
  "language_info": {
   "codemirror_mode": {
    "name": "ipython",
    "version": 2
   },
   "file_extension": ".py",
   "mimetype": "text/x-python",
   "name": "python",
   "nbconvert_exporter": "python",
   "pygments_lexer": "ipython2",
   "version": "2.7.13"
  }
 },
 "nbformat": 4,
 "nbformat_minor": 2
}
