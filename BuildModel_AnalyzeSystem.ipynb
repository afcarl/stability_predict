{
 "cells": [
  {
   "cell_type": "markdown",
   "metadata": {},
   "source": [
    "# Build Model and Analyze System\n",
    "The purpose of this notebook is to analyze the .csv files (results, data) created from predictsystem.ipynb, and generate candidates for full long Nbody simulations."
   ]
  },
  {
   "cell_type": "code",
   "execution_count": 1,
   "metadata": {},
   "outputs": [
    {
     "name": "stderr",
     "output_type": "stream",
     "text": [
      "/Users/silburt/anaconda2/envs/ml/lib/python2.7/site-packages/sklearn/cross_validation.py:44: DeprecationWarning: This module was deprecated in version 0.18 in favor of the model_selection module into which all the refactored classes and functions are moved. Also note that the interface of the new CV iterators are different from that of this module. This module will be removed in 0.20.\n",
      "  \"This module will be removed in 0.20.\", DeprecationWarning)\n"
     ]
    }
   ],
   "source": [
    "import pandas as pd\n",
    "import numpy as np\n",
    "import matplotlib.pyplot as plt\n",
    "import random\n",
    "import rebound\n",
    "import pandas as pd\n",
    "from xgboost.sklearn import XGBClassifier \n",
    "from sklearn.metrics import roc_auc_score\n",
    "import pickle\n",
    "from generatefeatures import generate_features\n",
    "import time\n",
    "import os\n",
    "%matplotlib inline"
   ]
  },
  {
   "cell_type": "code",
   "execution_count": 2,
   "metadata": {
    "collapsed": true
   },
   "outputs": [],
   "source": [
    "#Stellar masses for all possible systems of interest\n",
    "Ms = {}\n",
    "Ms[\"KOI-0156\"] = 0.56; Ms[\"KOI-0168\"] = 1.11; Ms[\"KOI-2086\"] = 1.04; Ms[\"Kepler-431\"] = 1.071;\n",
    "Ms[\"KOI-0085\"] = 1.25; Ms[\"KOI-0115\"] = 0.961; Ms[\"KOI-0152\"] = 1.165; Ms[\"KOI-0250\"] = 0.544;\n",
    "Ms[\"KOI-0314\"] = 0.521; Ms[\"KOI-0523\"] = 1.07; Ms[\"KOI-0738\"] = 0.979; Ms[\"KOI-1270\"] = 0.83;\n",
    "Ms[\"KOI-1576\"] = 0.907;\n",
    "epoch = 780"
   ]
  },
  {
   "cell_type": "markdown",
   "metadata": {},
   "source": [
    "## Load data and Nbody results"
   ]
  },
  {
   "cell_type": "code",
   "execution_count": 2,
   "metadata": {
    "collapsed": true
   },
   "outputs": [],
   "source": [
    "#Dont think I need this cell anymore really...\n",
    "\n",
    "#Systems: KOI-0085, KOI-0115, KOI-152, KOI-0156, KOI-0168, KOI-250, KOI-314, KOI-1576, KOI-2086, Kepler-431\n",
    "system = \"KOI-0115\"  \n",
    "\n",
    "#load data and predicted stability probabilities\n",
    "data = pd.read_csv(\"systems/%s_data.csv\"%system)\n",
    "\n",
    "#load Nbody results\n",
    "columns = [\"name\",\"id\",\"shadow\",\"maxorbs\",\"P1\",\"time\",\"dE\",\"elapsed_time\"]\n",
    "Nbody = pd.read_csv(\"systems/%s_Nbodyresults.csv\"%system,names=columns)"
   ]
  },
  {
   "cell_type": "markdown",
   "metadata": {},
   "source": [
    "## Load Model and Generate Predictions"
   ]
  },
  {
   "cell_type": "code",
   "execution_count": 86,
   "metadata": {
    "collapsed": true
   },
   "outputs": [],
   "source": [
    "#####################################################\n",
    "def build_model(model_SIfeatures, model_path, features, augmented_systems):\n",
    "    try:\n",
    "        model = pickle.load(open(\"%s.pkl\"%model_path, 'rb'))\n",
    "        print(\"Successfully Loaded Model %s\"%model_path)\n",
    "    except:\n",
    "        print(\"Couldn't Load model, building from scratch.\")\n",
    "        df = pd.read_csv(model_SIfeatures, index_col=0)\n",
    "        del df['instability_time']\n",
    "        del df['Rel_Eerr']\n",
    "        del df['Rel_Eerr_short']\n",
    "        del df[\"runstring\"]\n",
    "        \n",
    "        #get train/test data\n",
    "        y = df['Stable']\n",
    "        X = df[features]\n",
    "        Nrows = int(X.shape[0] * 0.8)\n",
    "\n",
    "        trainX = X.iloc[:Nrows,:]\n",
    "        trainY = y.iloc[:Nrows]\n",
    "        testX = X.iloc[Nrows:, :]\n",
    "        testY = y.iloc[Nrows:]\n",
    "        \n",
    "        #Augment Training X and Y with additional datasets\n",
    "        Nbody_columns = [\"name\",\"id\",\"shadow\",\"maxorbs\",\"P1\",\"time\",\"dE\",\"elapsed_time\"]\n",
    "        if len(augmented_systems) > 0:\n",
    "            print \"Augmenting training set with:\"\n",
    "        for sys in augmented_systems:\n",
    "            print sys\n",
    "            SI = pd.read_csv(\"systems/%s_preds.csv\"%sys, index_col=0)[features]\n",
    "            Nbody = pd.read_csv(\"systems/%s_Nbodyresults.csv\"%system,names=Nbody_columns)\n",
    "\n",
    "            stablemask = (Nbody.shadow == 0)&(Nbody.time >= Nbody.P1*Nbody.maxorbs-1) #-1 for near-exact quantities\n",
    "            unstablemask = (Nbody.shadow == 0)&(Nbody.time < Nbody.P1*Nbody.maxorbs)\n",
    "            stable = SI.loc[Nbody[stablemask].id.values, features]\n",
    "            unstable = SI.loc[Nbody[unstablemask].id.values, features]\n",
    "            y_aug = pd.Series(np.concatenate((np.ones(len(stable)),np.zeros(len(unstable)))))\n",
    "            \n",
    "            trainX = pd.concat([trainX,stable,unstable])\n",
    "            trainY = pd.concat([trainY,y_aug])\n",
    "\n",
    "        #Dan's best model parameters from Analysis/Old_Tuning_Notebooks/ApplicationsModel.ipynb\n",
    "        best = {'x_learning_rate': 0.00158945659624887,\n",
    "                'x_max_depth': 10,'x_min_child': 5,\n",
    "                'x_subsample': 0.8842843039075888,\n",
    "                'x_tree_colsample': 0.5393796629807249}\n",
    "\n",
    "        model = XGBClassifier(seed = 0, min_child_weight=best[\"x_min_child\"],\n",
    "                                  max_depth = best[\"x_max_depth\"],\n",
    "                                  subsample = best[\"x_subsample\"],\n",
    "                                  colsample_bytree = best[\"x_tree_colsample\"],\n",
    "                                  learning_rate = best[\"x_learning_rate\"])\n",
    "        model.fit(trainX, trainY)\n",
    "        pickle.dump(model,open(\"%s.pkl\"%model_path, 'wb'))\n",
    "        preds = model.predict_proba(testX)[:,1]\n",
    "        auc_Score = roc_auc_score(testY,preds)\n",
    "        print(\"AUC Score=%f\"%auc_Score)\n",
    "        print(\"Successfully built model %s\"%model_path)\n",
    "    return model\n",
    "\n",
    "#####################################################\n",
    "def get_predictions(data,model,Ms,epoch,features,path_to_preds,model_basename):\n",
    "    try:\n",
    "        preds = pd.read_csv(path_to_preds,index_col=0)\n",
    "        print(\"Successfully Loaded Previously Generated Features and Predictions.\")\n",
    "    except:    \n",
    "        print(\"Couldn't load preds, generating SI features and preds.\")\n",
    "        start = time.time()\n",
    "        fullfeatures = []\n",
    "        for index, d in data.iterrows():\n",
    "            fullfeatures.append(generate_features(d, Ms, epoch))\n",
    "\n",
    "        # compile results - take only the features the model uses\n",
    "        preds = pd.DataFrame(columns=features)\n",
    "        for i in range(len(fullfeatures)):\n",
    "            preds.loc[i] = fullfeatures[i][features] \n",
    "        print \"%d simulations took %f seconds\"%(len(data), time.time() - start)\n",
    "            \n",
    "    # predict stability \n",
    "    preds[\"%s_predict_proba\"%model_basename] = model.predict_proba(preds[features])[:,1]\n",
    "    \n",
    "    #save model\n",
    "    preds.to_csv(path_to_preds)\n",
    "    print(\"Successfully generated new predictions for model %s.pkl.\"%model_basename)\n",
    "    \n",
    "    return preds"
   ]
  },
  {
   "cell_type": "code",
   "execution_count": 61,
   "metadata": {
    "collapsed": true
   },
   "outputs": [],
   "source": [
    "#model features\n",
    "features = []\n",
    "features += ['avg_iH1', 'avg_iH2']\n",
    "features += ['norm_std_a1', 'norm_max_a1', 'norm_std_window10_a1', 'norm_max_window10_a1']\n",
    "features += ['norm_std_a2', 'norm_max_a2', 'norm_std_window10_a2', 'norm_max_window10_a2']\n",
    "features += ['norm_std_a3', 'norm_max_a3', 'norm_std_window10_a3', 'norm_max_window10_a3']\n",
    "features += ['avg_ecross1', 'std_ecross1', 'max_ecross1', 'min_ecross1']\n",
    "features += ['avg_ecross2', 'std_ecross2', 'max_ecross2', 'min_ecross2']\n",
    "features += ['avg_ecross3', 'std_ecross3', 'max_ecross3', 'min_ecross3']"
   ]
  },
  {
   "cell_type": "markdown",
   "metadata": {},
   "source": [
    "Load Model if available, or build from scratch if short integration features are provided."
   ]
  },
  {
   "cell_type": "code",
   "execution_count": 87,
   "metadata": {},
   "outputs": [
    {
     "name": "stdout",
     "output_type": "stream",
     "text": [
      "Successfully Loaded Model models/ApplicationsModel_augmented2\n"
     ]
    }
   ],
   "source": [
    "#Load/Build model\n",
    "model_SIfeatures_csv = \"models/csv/short_integration_features.csv\"\n",
    "model_path_name = \"models/ApplicationsModel_augmented2\"    #.pkl is the extension automatically added\n",
    "#augmented_systems = [\"KOI-0115\",\"KOI-0152\",\"KOI-1576\",\"KOI-2086\"]\n",
    "augmented_systems2 = [\"KOI-0152\",\"KOI-0168\",\"KOI-0250\",\"KOI-0314\"]\n",
    "\n",
    "model = build_model(model_SIfeatures_csv, model_path_name, features, augmented_systems2)"
   ]
  },
  {
   "cell_type": "markdown",
   "metadata": {},
   "source": [
    "Generate Predictions - example - Single system"
   ]
  },
  {
   "cell_type": "code",
   "execution_count": 8,
   "metadata": {},
   "outputs": [
    {
     "name": "stdout",
     "output_type": "stream",
     "text": [
      "Couldn't load preds, generating SI features and preds.\n",
      "500 simulations took 340.557794 seconds\n",
      "Successfully generated new predictions for model ApplicationsModel.pkl.\n"
     ]
    }
   ],
   "source": [
    "#Systems: KOI-0085, KOI-0115, KOI-152, KOI-0156, KOI-0168, KOI-250, KOI-314, KOI-1576, KOI-2086, Kepler-431\n",
    "system = \"KOI-0156\"  \n",
    "data = pd.read_csv(\"systems/%s_data.csv\"%system)\n",
    "\n",
    "path_to_preds = \"systems/%s_preds.csv\"%system\n",
    "proba = get_predictions(data,model,Ms[system],epoch,features,path_to_preds,os.path.basename(model_path_name))"
   ]
  },
  {
   "cell_type": "markdown",
   "metadata": {},
   "source": [
    "Generate Predictions - batch"
   ]
  },
  {
   "cell_type": "code",
   "execution_count": 82,
   "metadata": {},
   "outputs": [
    {
     "name": "stdout",
     "output_type": "stream",
     "text": [
      "Successfully Loaded Previously Generated Features and Predictions.\n",
      "Successfully generated new predictions for model ApplicationsModel_augmented2.pkl.\n",
      "Completed System KOI-0085\n",
      "Successfully Loaded Previously Generated Features and Predictions.\n",
      "Successfully generated new predictions for model ApplicationsModel_augmented2.pkl.\n",
      "Completed System KOI-0115\n",
      "Successfully Loaded Previously Generated Features and Predictions.\n",
      "Successfully generated new predictions for model ApplicationsModel_augmented2.pkl.\n",
      "Completed System KOI-0152\n",
      "Successfully Loaded Previously Generated Features and Predictions.\n",
      "Successfully generated new predictions for model ApplicationsModel_augmented2.pkl.\n",
      "Completed System KOI-0156\n",
      "Successfully Loaded Previously Generated Features and Predictions.\n",
      "Successfully generated new predictions for model ApplicationsModel_augmented2.pkl.\n",
      "Completed System KOI-0168\n",
      "Successfully Loaded Previously Generated Features and Predictions.\n",
      "Successfully generated new predictions for model ApplicationsModel_augmented2.pkl.\n",
      "Completed System KOI-0250\n",
      "Successfully Loaded Previously Generated Features and Predictions.\n",
      "Successfully generated new predictions for model ApplicationsModel_augmented2.pkl.\n",
      "Completed System KOI-0314\n",
      "Successfully Loaded Previously Generated Features and Predictions.\n",
      "Successfully generated new predictions for model ApplicationsModel_augmented2.pkl.\n",
      "Completed System KOI-1576\n",
      "Successfully Loaded Previously Generated Features and Predictions.\n",
      "Successfully generated new predictions for model ApplicationsModel_augmented2.pkl.\n",
      "Completed System KOI-2086\n",
      "Successfully Loaded Previously Generated Features and Predictions.\n",
      "Successfully generated new predictions for model ApplicationsModel_augmented2.pkl.\n",
      "Completed System Kepler-431\n"
     ]
    }
   ],
   "source": [
    "systems = [\"KOI-0085\", \"KOI-0115\", \"KOI-0152\", \"KOI-0156\", \"KOI-0168\", \n",
    "           \"KOI-0250\", \"KOI-0314\", \"KOI-1576\", \"KOI-2086\", \"Kepler-431\"]\n",
    "\n",
    "for s in systems:\n",
    "    data = pd.read_csv(\"systems/%s_data.csv\"%s)\n",
    "    path_to_preds = \"systems/%s_preds.csv\"%s\n",
    "    proba = get_predictions(data,model,Ms[s],epoch,features,path_to_preds,os.path.basename(model_path_name))\n",
    "    print \"Completed System %s\"%s"
   ]
  },
  {
   "cell_type": "markdown",
   "metadata": {},
   "source": [
    "## Plot Stability Predictions and Results"
   ]
  },
  {
   "cell_type": "code",
   "execution_count": 99,
   "metadata": {},
   "outputs": [
    {
     "name": "stdout",
     "output_type": "stream",
     "text": [
      "can't find h and k entries, calculating.\n"
     ]
    },
    {
     "data": {
      "image/png": "[encoded data removed]",
      "text/plain": [
       "<matplotlib.figure.Figure at 0x109e9a9d0>"
      ]
     },
     "metadata": {},
     "output_type": "display_data"
    }
   ],
   "source": [
    "#Systems: KOI-0085, KOI-0115, KOI-0152, KOI-0156, KOI-0168, KOI-0250, KOI-0314, KOI-1576, KOI-2086, Kepler-431\n",
    "system = \"Kepler-431\"  \n",
    "\n",
    "#plotting variables\n",
    "x = \"h1\"\n",
    "y = \"k1\"\n",
    "shadow = 0   #0 or 1\n",
    "prob_thresh = 0.5\n",
    "\n",
    "#data\n",
    "columns = [\"name\",\"id\",\"shadow\",\"maxorbs\",\"P1\",\"time\",\"dE\",\"elapsed_time\"]\n",
    "Nbody = pd.read_csv(\"systems/%s_Nbodyresults.csv\"%system,names=columns)\n",
    "preds = pd.read_csv(\"systems/%s_preds.csv\"%system,index_col=0)\n",
    "data = pd.read_csv(\"systems/%s_data.csv\"%system,index_col=0)\n",
    "try:\n",
    "    data[\"e1\"] = np.sqrt(data[\"h1\"]**2 + data[\"k1\"]**2)\n",
    "    data[\"e2\"] = np.sqrt(data[\"h2\"]**2 + data[\"k2\"]**2)\n",
    "    data[\"e3\"] = np.sqrt(data[\"h3\"]**2 + data[\"k3\"]**2)\n",
    "except:\n",
    "    print \"can't find h and k entries, calculating.\"\n",
    "    data[\"h1\"], data[\"k1\"] = data[\"e1\"]*np.sin(data[\"w1\"]), data[\"e1\"]*np.cos(data[\"w1\"])\n",
    "    data[\"h2\"], data[\"k2\"] = data[\"e2\"]*np.sin(data[\"w2\"]), data[\"e2\"]*np.cos(data[\"w2\"])\n",
    "    data[\"h3\"], data[\"k3\"] = data[\"e3\"]*np.sin(data[\"w3\"]), data[\"e3\"]*np.cos(data[\"w3\"])\n",
    "\n",
    "#stable/unstable masks\n",
    "stablemask = (Nbody.shadow == shadow)&(Nbody.time >= Nbody.P1*Nbody.maxorbs-1) #-1 for near-exact quantities\n",
    "unstablemask = (Nbody.shadow == shadow)&(Nbody.time < Nbody.P1*Nbody.maxorbs)\n",
    "pstablemask = preds[\"%s_predict_proba\"%os.path.basename(model_path_name)] >= prob_thresh\n",
    "punstablemask = preds[\"%s_predict_proba\"%os.path.basename(model_path_name)] < prob_thresh\n",
    "\n",
    "#plot\n",
    "f, (ax1,ax2) = plt.subplots(1,2, figsize=[10, 5], sharex=True, sharey=True)\n",
    "ax1.plot(data.loc[Nbody[stablemask].id.values, x],data.loc[Nbody[stablemask].id.values, y], '.', label='Stable')\n",
    "ax1.plot(data.loc[Nbody[unstablemask].id.values, x],data.loc[Nbody[unstablemask].id.values, y], '.', label='Unstable')\n",
    "ax2.plot(data.loc[pstablemask, x],data.loc[pstablemask, y], '.', label='Stable')\n",
    "ax2.plot(data.loc[punstablemask, x],data.loc[punstablemask, y], '.', label='Unstable')\n",
    "\n",
    "#prettify\n",
    "ax1.set_title(\"Ground Truth\")\n",
    "ax1.set_xlabel(x)\n",
    "ax1.set_ylabel(y)\n",
    "ax1.legend(numpoints=1, fontsize=10)\n",
    "ax2.set_title(\"ML Predicted\")\n",
    "ax2.set_xlabel(x)\n",
    "ax2.set_ylabel(y)\n",
    "ax2.legend(numpoints=1, fontsize=10)\n",
    "plt.savefig('images/%s_%s_vs_%s_augmented2.png'%(system,x,y))"
   ]
  },
  {
   "cell_type": "code",
   "execution_count": null,
   "metadata": {
    "collapsed": true
   },
   "outputs": [],
   "source": []
  }
 ],
 "metadata": {
  "kernelspec": {
   "display_name": "Python 2",
   "language": "python",
   "name": "python2"
  },
  "language_info": {
   "codemirror_mode": {
    "name": "ipython",
    "version": 2
   },
   "file_extension": ".py",
   "mimetype": "text/x-python",
   "name": "python",
   "nbconvert_exporter": "python",
   "pygments_lexer": "ipython2",
   "version": "2.7.13"
  }
 },
 "nbformat": 4,
 "nbformat_minor": 2
}
